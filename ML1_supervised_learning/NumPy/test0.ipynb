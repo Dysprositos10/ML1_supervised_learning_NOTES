{
 "cells": [
  {
   "cell_type": "code",
   "execution_count": 1,
   "id": "6d593815",
   "metadata": {},
   "outputs": [],
   "source": [
    "import numpy as np"
   ]
  },
  {
   "cell_type": "code",
   "execution_count": 5,
   "id": "ae4ec0d9",
   "metadata": {},
   "outputs": [
    {
     "data": {
      "text/plain": [
       "1"
      ]
     },
     "execution_count": 5,
     "metadata": {},
     "output_type": "execute_result"
    }
   ],
   "source": [
    "w = np. array([1,2,3])#这里创建了一个一维数组\n",
    "b = 4 \n",
    "x = np. array([10,20,30])\n",
    "w[0]"
   ]
  },
  {
   "cell_type": "code",
   "execution_count": null,
   "id": "cf0990db",
   "metadata": {},
   "outputs": [
    {
     "data": {
      "text/plain": [
       "144"
      ]
     },
     "execution_count": 7,
     "metadata": {},
     "output_type": "execute_result"
    }
   ],
   "source": [
    "f = np.dot(w,x)+b #计算内积\n",
    "f"
   ]
  },
  {
   "cell_type": "code",
   "execution_count": null,
   "id": "3b498127",
   "metadata": {},
   "outputs": [
    {
     "data": {
      "text/plain": [
       "array([0.47, 1.28, 3.36])"
      ]
     },
     "execution_count": 10,
     "metadata": {},
     "output_type": "execute_result"
    }
   ],
   "source": [
    "w = np. array([0.5,1.3,3.4])\n",
    "d = np. array([0.3,0.2,0.4])\n",
    "w = w - 0.1*d #向量化运算\n",
    "w"
   ]
  }
 ],
 "metadata": {
  "kernelspec": {
   "display_name": "dl3.8",
   "language": "python",
   "name": "dl3.8"
  }
 },
 "nbformat": 4,
 "nbformat_minor": 5
}
